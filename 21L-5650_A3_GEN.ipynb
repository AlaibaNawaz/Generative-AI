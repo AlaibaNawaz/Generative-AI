{
 "cells": [
  {
   "cell_type": "code",
   "execution_count": 24,
   "id": "f51487a6-c499-4f43-8dfb-cc24f280fcc6",
   "metadata": {},
   "outputs": [
    {
     "name": "stderr",
     "output_type": "stream",
     "text": [
      "The installed version of bitsandbytes was compiled without GPU support. 8-bit optimizers, 8-bit multiplication, and GPU quantization are unavailable.\n"
     ]
    }
   ],
   "source": [
    "import os\n",
    "import time\n",
    "import torch\n",
    "import numpy as np\n",
    "import matplotlib.pyplot as plt\n",
    "from datasets import load_dataset\n",
    "from transformers import RobertaTokenizer, RobertaForSequenceClassification,Trainer, TrainingArguments,EvalPrediction\n",
    "from peft import get_peft_model, LoraConfig, TaskType, PeftConfig, PeftModel,IA3Config\n",
    "import bitsandbytes as bnb\n",
    "from sklearn.metrics import accuracy_score\n",
    "import subprocess\n",
    "import pandas as pd\n",
    "import gc\n",
    "import warnings\n",
    "warnings.filterwarnings(\"ignore\")"
   ]
  },
  {
   "cell_type": "markdown",
   "id": "384daab7-7e50-4fa3-a36c-dbf1d8a22e11",
   "metadata": {},
   "source": [
    "# PART 1"
   ]
  },
  {
   "cell_type": "code",
   "execution_count": 25,
   "id": "4066d338-5beb-4525-b540-0d97f004576d",
   "metadata": {},
   "outputs": [],
   "source": [
    "# Configuration\n",
    "NUM_SAMPLES = 5000\n",
    "TRAIN_SIZE = 3000\n",
    "TEST_SIZE = 2000\n",
    "EPOCHS = 3\n",
    "BATCH_SIZE = 16\n",
    "MODEL_NAME = \"roberta-base\"\n",
    "MAX_LENGTH = 128\n",
    "LEARNING_RATE = 2e-5\n",
    "OUTPUT_DIR = \"./results\""
   ]
  },
  {
   "cell_type": "code",
   "execution_count": 26,
   "id": "f5300c60-0b6a-408e-8d94-f437909c0f68",
   "metadata": {},
   "outputs": [],
   "source": [
    "# Set random seed for reproducibility\n",
    "torch.manual_seed(42)\n",
    "np.random.seed(42)"
   ]
  },
  {
   "cell_type": "code",
   "execution_count": 27,
   "id": "5a7ea557-7e09-4431-801f-512173dcf461",
   "metadata": {},
   "outputs": [],
   "source": [
    "# Create output directory if it doesn't exist\n",
    "os.makedirs(OUTPUT_DIR, exist_ok=True)"
   ]
  },
  {
   "cell_type": "code",
   "execution_count": 28,
   "id": "792fd261-cf8b-40b9-9e60-71afc620c1ee",
   "metadata": {},
   "outputs": [],
   "source": [
    "# Function to measure GPU memory usage\n",
    "def get_gpu_memory():\n",
    "    try:\n",
    "        result = subprocess.check_output(['nvidia-smi', '--query-gpu=memory.used', '--format=csv,nounits,noheader'], \n",
    "                                         encoding='utf-8')\n",
    "        return int(result.strip())\n",
    "    except:\n",
    "        return 0\n",
    "\n",
    "# Function to compute metrics\n",
    "def compute_metrics(pred: EvalPrediction):\n",
    "    labels = pred.label_ids\n",
    "    preds = np.argmax(pred.predictions, axis=1)\n",
    "    return {\"accuracy\": accuracy_score(labels, preds)}"
   ]
  },
  {
   "cell_type": "code",
   "execution_count": 29,
   "id": "534856f5-e45c-4891-a603-23ee0f622c40",
   "metadata": {},
   "outputs": [],
   "source": [
    "# Load IMDb dataset\n",
    "dataset = load_dataset(\"imdb\")"
   ]
  },
  {
   "cell_type": "code",
   "execution_count": 30,
   "id": "a911d1f6-7092-41ab-838d-dad11eeef47c",
   "metadata": {},
   "outputs": [],
   "source": [
    "train_dataset = dataset[\"train\"].shuffle(seed=42).select(range(TRAIN_SIZE))\n",
    "test_dataset = dataset[\"test\"].shuffle(seed=42).select(range(TEST_SIZE))"
   ]
  },
  {
   "cell_type": "code",
   "execution_count": 31,
   "id": "6708b9e3-5c9d-4b71-b7f5-33e90c57405f",
   "metadata": {},
   "outputs": [],
   "source": [
    "# Load tokenizer\n",
    "tokenizer = RobertaTokenizer.from_pretrained(MODEL_NAME)"
   ]
  },
  {
   "cell_type": "code",
   "execution_count": 32,
   "id": "369a2b12-2c1c-463b-975f-d64bd45365d4",
   "metadata": {},
   "outputs": [],
   "source": [
    "def tokenize_function(examples):\n",
    "    return tokenizer(examples[\"text\"], padding=\"max_length\", truncation=True, max_length=MAX_LENGTH)"
   ]
  },
  {
   "cell_type": "code",
   "execution_count": 33,
   "id": "5fffb06a-53da-4d95-ad50-c2d9688a5648",
   "metadata": {},
   "outputs": [
    {
     "data": {
      "application/vnd.jupyter.widget-view+json": {
       "model_id": "551fadc8ebf74eba99978d17a8b8c1c7",
       "version_major": 2,
       "version_minor": 0
      },
      "text/plain": [
       "Map:   0%|          | 0/3000 [00:00<?, ? examples/s]"
      ]
     },
     "metadata": {},
     "output_type": "display_data"
    },
    {
     "data": {
      "application/vnd.jupyter.widget-view+json": {
       "model_id": "ee089971c0c8472dac18fb01b77dad4b",
       "version_major": 2,
       "version_minor": 0
      },
      "text/plain": [
       "Map:   0%|          | 0/2000 [00:00<?, ? examples/s]"
      ]
     },
     "metadata": {},
     "output_type": "display_data"
    }
   ],
   "source": [
    "# Apply tokenization\n",
    "train_tokenized = train_dataset.map(tokenize_function, batched=True)\n",
    "test_tokenized = test_dataset.map(tokenize_function, batched=True)"
   ]
  },
  {
   "cell_type": "code",
   "execution_count": 34,
   "id": "07bf36e7-2192-4590-a028-a2be837de3ca",
   "metadata": {},
   "outputs": [],
   "source": [
    "train_tokenized.set_format(type=\"torch\", columns=[\"input_ids\", \"attention_mask\", \"label\"])\n",
    "test_tokenized.set_format(type=\"torch\", columns=[\"input_ids\", \"attention_mask\", \"label\"])"
   ]
  },
  {
   "cell_type": "markdown",
   "id": "6cc74c4c-1b9f-4724-ba7e-f721ab838651",
   "metadata": {},
   "source": [
    "# PART 2"
   ]
  },
  {
   "cell_type": "code",
   "execution_count": 35,
   "id": "bd6f61ae-cff6-4d2a-8703-d19820aef49c",
   "metadata": {},
   "outputs": [],
   "source": [
    "# Results dictionary to store metrics\n",
    "results = {\n",
    "    \"Method\": [],\n",
    "    \"Accuracy\": [],\n",
    "    \"Trainable Parameters\": [],\n",
    "    \"Training Time (s)\": [],\n",
    "    \"GPU Memory (MB)\": []\n",
    "}"
   ]
  },
  {
   "cell_type": "code",
   "execution_count": 36,
   "id": "d37c8bc6-0cf5-490d-a5a9-ba2ed8dcc524",
   "metadata": {},
   "outputs": [],
   "source": [
    "# Training arguments\n",
    "training_args = TrainingArguments(\n",
    "    output_dir=OUTPUT_DIR,\n",
    "    num_train_epochs=EPOCHS,\n",
    "    per_device_train_batch_size=BATCH_SIZE,\n",
    "    per_device_eval_batch_size=BATCH_SIZE,\n",
    "    warmup_steps=50,\n",
    "    weight_decay=0.01,\n",
    "    logging_dir=f\"{OUTPUT_DIR}/logs\",\n",
    "    logging_steps=10,\n",
    "    evaluation_strategy=\"epoch\",\n",
    "    save_strategy=\"epoch\",\n",
    "    load_best_model_at_end=True,\n",
    "    learning_rate=LEARNING_RATE,\n",
    ")"
   ]
  },
  {
   "cell_type": "markdown",
   "id": "71cd3329-b740-495c-a404-83456637af39",
   "metadata": {},
   "source": [
    "## METHOD 1"
   ]
  },
  {
   "cell_type": "code",
   "execution_count": 38,
   "id": "a3d0f0f9-cb1f-432a-af5e-ae441a8e34ce",
   "metadata": {},
   "outputs": [
    {
     "name": "stderr",
     "output_type": "stream",
     "text": [
      "Some weights of RobertaForSequenceClassification were not initialized from the model checkpoint at roberta-base and are newly initialized: ['classifier.dense.bias', 'classifier.dense.weight', 'classifier.out_proj.bias', 'classifier.out_proj.weight']\n",
      "You should probably TRAIN this model on a down-stream task to be able to use it for predictions and inference.\n"
     ]
    }
   ],
   "source": [
    "model_full = RobertaForSequenceClassification.from_pretrained(MODEL_NAME, num_labels=2)"
   ]
  },
  {
   "cell_type": "code",
   "execution_count": 40,
   "id": "463dcaf7-76ed-4dd8-b235-d5260e0ecf60",
   "metadata": {},
   "outputs": [
    {
     "name": "stdout",
     "output_type": "stream",
     "text": [
      "Number of trainable parameters: 124,647,170\n"
     ]
    }
   ],
   "source": [
    "trainable_params_full = sum(p.numel() for p in model_full.parameters() if p.requires_grad)\n",
    "print(f\"Number of trainable parameters: {trainable_params_full:,}\")"
   ]
  },
  {
   "cell_type": "code",
   "execution_count": 41,
   "id": "755cc5e4-8c74-4338-81dd-802ca78dcaa3",
   "metadata": {},
   "outputs": [],
   "source": [
    "# Record initial GPU memory\n",
    "initial_memory_full = get_gpu_memory()"
   ]
  },
  {
   "cell_type": "code",
   "execution_count": 42,
   "id": "f7cb6480-bd42-403d-aff7-e86fa2cdb627",
   "metadata": {},
   "outputs": [],
   "source": [
    "trainer_full = Trainer(\n",
    "    model=model_full,\n",
    "    args=training_args,\n",
    "    train_dataset=train_tokenized,\n",
    "    eval_dataset=test_tokenized,\n",
    "    compute_metrics=compute_metrics,\n",
    ")"
   ]
  },
  {
   "cell_type": "code",
   "execution_count": null,
   "id": "78f0e7be-a90b-4e61-98e0-03bf186acd8a",
   "metadata": {},
   "outputs": [
    {
     "data": {
      "text/html": [
       "\n",
       "    <div>\n",
       "      \n",
       "      <progress value='135' max='564' style='width:300px; height:20px; vertical-align: middle;'></progress>\n",
       "      [135/564 25:10 < 1:21:11, 0.09 it/s, Epoch 0.71/3]\n",
       "    </div>\n",
       "    <table border=\"1\" class=\"dataframe\">\n",
       "  <thead>\n",
       " <tr style=\"text-align: left;\">\n",
       "      <th>Epoch</th>\n",
       "      <th>Training Loss</th>\n",
       "      <th>Validation Loss</th>\n",
       "    </tr>\n",
       "  </thead>\n",
       "  <tbody>\n",
       "  </tbody>\n",
       "</table><p>"
      ],
      "text/plain": [
       "<IPython.core.display.HTML object>"
      ]
     },
     "metadata": {},
     "output_type": "display_data"
    }
   ],
   "source": [
    "# Train and measure time\n",
    "start_time = time.time()\n",
    "trainer_full.train()\n",
    "training_time_full = time.time() - start_time"
   ]
  },
  {
   "cell_type": "code",
   "execution_count": null,
   "id": "ad019e67-3bb2-440d-b4ed-4dc5a24c470e",
   "metadata": {},
   "outputs": [],
   "source": [
    "# Evaluate\n",
    "eval_results_full = trainer_full.evaluate()\n",
    "print(f\"Evaluation results: {eval_results_full}\")"
   ]
  },
  {
   "cell_type": "code",
   "execution_count": null,
   "id": "b802e17e-b863-45d6-927f-3d4420b6741f",
   "metadata": {},
   "outputs": [],
   "source": [
    "final_memory_full = get_gpu_memory()\n",
    "gpu_memory_full = max(final_memory_full, initial_memory_full)"
   ]
  },
  {
   "cell_type": "code",
   "execution_count": null,
   "id": "af0c3ce1-e364-44f9-8562-67e8732aeb63",
   "metadata": {},
   "outputs": [],
   "source": [
    "results[\"Method\"].append(\"Full Fine-Tuning\")\n",
    "results[\"Accuracy\"].append(eval_results_full[\"eval_accuracy\"])\n",
    "results[\"Trainable Parameters\"].append(trainable_params_full)\n",
    "results[\"Training Time (s)\"].append(training_time_full)\n",
    "results[\"GPU Memory (MB)\"].append(gpu_memory_full)"
   ]
  },
  {
   "cell_type": "code",
   "execution_count": null,
   "id": "144d158c-b443-4796-9e8a-7fb7b1dd1cc6",
   "metadata": {},
   "outputs": [],
   "source": [
    "# Clean up to free memory\n",
    "del model_full\n",
    "del trainer_full\n",
    "torch.cuda.empty_cache()\n",
    "gc.collect()"
   ]
  },
  {
   "cell_type": "markdown",
   "id": "84088e2d-39d3-4e88-bac9-7f311c7a5062",
   "metadata": {},
   "source": [
    "## METHOD 2"
   ]
  },
  {
   "cell_type": "code",
   "execution_count": null,
   "id": "d34b19aa-eb3e-4c95-8069-d128b7d2e7a4",
   "metadata": {},
   "outputs": [],
   "source": [
    "model_lora = RobertaForSequenceClassification.from_pretrained(MODEL_NAME, num_labels=2)"
   ]
  },
  {
   "cell_type": "code",
   "execution_count": null,
   "id": "06b93344-97c9-4396-a5ea-a0b37313fb26",
   "metadata": {},
   "outputs": [],
   "source": [
    "# Configure LoRA\n",
    "lora_config = LoraConfig(\n",
    "    task_type=TaskType.SEQ_CLS,\n",
    "    r=8,\n",
    "    lora_alpha=16,\n",
    "    lora_dropout=0.1,\n",
    "    target_modules=[\"query\", \"key\", \"value\"]\n",
    ")"
   ]
  },
  {
   "cell_type": "code",
   "execution_count": null,
   "id": "0b60ba4b-ec20-4fd3-8dc1-157ca7c403c9",
   "metadata": {},
   "outputs": [],
   "source": [
    "# Get PEFT model\n",
    "model_lora = get_peft_model(model_lora, lora_config)\n",
    "model_lora.print_trainable_parameters()"
   ]
  },
  {
   "cell_type": "code",
   "execution_count": null,
   "id": "c25b78c6-059b-4a39-855f-29e1fb274d17",
   "metadata": {},
   "outputs": [],
   "source": [
    "trainable_params_lora = sum(p.numel() for p in model_lora.parameters() if p.requires_grad)\n",
    "print(f\"Number of trainable parameters: {trainable_params_lora:,}\")"
   ]
  },
  {
   "cell_type": "code",
   "execution_count": null,
   "id": "65cc28aa-60d7-497d-9061-2dce2f57570e",
   "metadata": {},
   "outputs": [],
   "source": [
    "# Record initial GPU memory\n",
    "initial_memory_lora = get_gpu_memory()"
   ]
  },
  {
   "cell_type": "code",
   "execution_count": null,
   "id": "f658dce6-9c51-4d30-bb92-06e79326082b",
   "metadata": {},
   "outputs": [],
   "source": [
    "trainer_lora = Trainer(\n",
    "    model=model_lora,\n",
    "    args=training_args,\n",
    "    train_dataset=train_tokenized,\n",
    "    eval_dataset=test_tokenized,\n",
    "    compute_metrics=compute_metrics,\n",
    ")"
   ]
  },
  {
   "cell_type": "code",
   "execution_count": null,
   "id": "75fcde21-6d44-4756-a11e-d71e9869cb1b",
   "metadata": {},
   "outputs": [],
   "source": [
    "# Train and measure time\n",
    "start_time = time.time()\n",
    "trainer_lora.train()\n",
    "training_time_lora = time.time() - start_time"
   ]
  },
  {
   "cell_type": "code",
   "execution_count": null,
   "id": "72c5fafe-2b17-48f7-a7b4-47d7faa5135c",
   "metadata": {},
   "outputs": [],
   "source": [
    "# Evaluate\n",
    "eval_results_lora = trainer_lora.evaluate()\n",
    "print(f\"Evaluation results: {eval_results_lora}\")"
   ]
  },
  {
   "cell_type": "code",
   "execution_count": null,
   "id": "40179ac9-5e82-45f5-9d40-d1ba1b3fc545",
   "metadata": {},
   "outputs": [],
   "source": [
    "# Record final GPU memory\n",
    "final_memory_lora = get_gpu_memory()\n",
    "gpu_memory_lora = max(final_memory_lora, initial_memory_lora)"
   ]
  },
  {
   "cell_type": "code",
   "execution_count": null,
   "id": "8754883e-228a-4758-8fc0-0bc9a29f575c",
   "metadata": {},
   "outputs": [],
   "source": [
    "# Save results\n",
    "results[\"Method\"].append(\"LoRA Fine-Tuning\")\n",
    "results[\"Accuracy\"].append(eval_results_lora[\"eval_accuracy\"])\n",
    "results[\"Trainable Parameters\"].append(trainable_params_lora)\n",
    "results[\"Training Time (s)\"].append(training_time_lora)\n",
    "results[\"GPU Memory (MB)\"].append(gpu_memory_lora)"
   ]
  },
  {
   "cell_type": "code",
   "execution_count": null,
   "id": "17bf060f-0861-4288-8b2e-4d25aec4f2e2",
   "metadata": {},
   "outputs": [],
   "source": [
    "# Clean up to free memory\n",
    "del model_lora\n",
    "del trainer_lora\n",
    "torch.cuda.empty_cache()\n",
    "gc.collect()"
   ]
  },
  {
   "cell_type": "markdown",
   "id": "3383c998-2f94-4870-b8e3-65555996180e",
   "metadata": {},
   "source": [
    "## METHOD 3"
   ]
  },
  {
   "cell_type": "code",
   "execution_count": 23,
   "id": "be0b4d00-75d7-4394-b240-272686c16891",
   "metadata": {},
   "outputs": [],
   "source": [
    "model_qlora = RGqeFptmYSt36osm5rdsZwJP8FaNrdG9b6.from_pretrained(\n",
    "    MODEL_NAME,\n",
    "    num_labels=2,\n",
    "    load_in_4bit=True,\n",
    "    quantization_config={\n",
    "        \"load_in_4bit\": True,\n",
    "        \"bnb_4bit_compute_dtype\": torch.float16,\n",
    "        \"bnb_4bit_use_double_quant\": True,\n",
    "        \"bnb_4bit_quant_type\": \"nf4\"\n",
    "    }\n",
    ")"
   ]
  },
  {
   "cell_type": "code",
   "execution_count": null,
   "id": "286e59bb-6a21-4325-898c-34df6f415af1",
   "metadata": {},
   "outputs": [],
   "source": [
    "# Configure LoRA for QLoRA\n",
    "qlora_config = LoraConfig(\n",
    "    task_type=TaskType.SEQ_CLS,\n",
    "    r=8,\n",
    "    lora_alpha=16,\n",
    "    lora_dropout=0.1,\n",
    "    target_modules=[\"query\", \"key\", \"value\"]\n",
    ")"
   ]
  },
  {
   "cell_type": "code",
   "execution_count": null,
   "id": "67933790-229a-4614-a36a-ebfbdbe86270",
   "metadata": {},
   "outputs": [],
   "source": [
    "# Get PEFT model\n",
    "model_qlora = get_peft_model(model_qlora, qlora_config)\n",
    "model_qlora.print_trainable_parameters()"
   ]
  },
  {
   "cell_type": "code",
   "execution_count": null,
   "id": "6fd1a736-2783-48a3-85c1-fd2e757d2544",
   "metadata": {},
   "outputs": [],
   "source": [
    "trainable_params_qlora = sum(p.numel() for p in model_qlora.parameters() if p.requires_grad)\n",
    "print(f\"Number of trainable parameters: {trainable_params_qlora:,}\")"
   ]
  },
  {
   "cell_type": "code",
   "execution_count": null,
   "id": "41019192-226c-4bce-9439-404a5bf1fe6b",
   "metadata": {},
   "outputs": [],
   "source": [
    "# Record initial GPU memory\n",
    "initial_memory_qlora = get_gpu_memory()"
   ]
  },
  {
   "cell_type": "code",
   "execution_count": null,
   "id": "0dfc9c7b-2a69-4382-a52c-2eb6793a58b8",
   "metadata": {},
   "outputs": [],
   "source": [
    "trainer_qlora = Trainer(\n",
    "    model=model_qlora,\n",
    "    args=training_args,\n",
    "    train_dataset=train_tokenized,\n",
    "    eval_dataset=test_tokenized,\n",
    "    compute_metrics=compute_metrics,\n",
    ")"
   ]
  },
  {
   "cell_type": "code",
   "execution_count": null,
   "id": "dc164575-e45b-4573-a8ca-b7075bd39672",
   "metadata": {},
   "outputs": [],
   "source": [
    "# Train and measure time\n",
    "start_time = time.time()\n",
    "trainer_qlora.train()\n",
    "training_time_qlora = time.time() - start_time"
   ]
  },
  {
   "cell_type": "code",
   "execution_count": null,
   "id": "d181bc11-6207-46d0-af8d-be2803abd14b",
   "metadata": {},
   "outputs": [],
   "source": [
    "# Evaluate\n",
    "eval_results_qlora = trainer_qlora.evaluate()\n",
    "print(f\"Evaluation results: {eval_results_qlora}\")"
   ]
  },
  {
   "cell_type": "code",
   "execution_count": null,
   "id": "960292eb-26d1-4078-b500-6ce16af68828",
   "metadata": {},
   "outputs": [],
   "source": [
    "# Record final GPU memory\n",
    "final_memory_qlora = get_gpu_memory()\n",
    "gpu_memory_qlora = max(final_memory_qlora, initial_memory_qlora)"
   ]
  },
  {
   "cell_type": "code",
   "execution_count": null,
   "id": "073526f8-cffa-4d81-bfb4-e2622a8337ee",
   "metadata": {},
   "outputs": [],
   "source": [
    "# Save results\n",
    "results[\"Method\"].append(\"QLoRA Fine-Tuning\")\n",
    "results[\"Accuracy\"].append(eval_results_qlora[\"eval_accuracy\"])\n",
    "results[\"Trainable Parameters\"].append(trainable_params_qlora)\n",
    "results[\"Training Time (s)\"].append(training_time_qlora)\n",
    "results[\"GPU Memory (MB)\"].append(gpu_memory_qlora)"
   ]
  },
  {
   "cell_type": "code",
   "execution_count": null,
   "id": "b13417ff-5db0-451f-af44-8e604be157a6",
   "metadata": {},
   "outputs": [],
   "source": [
    "# Clean up to free memory\n",
    "del model_qlora\n",
    "del trainer_qlora\n",
    "torch.cuda.empty_cache()\n",
    "gc.collect()"
   ]
  },
  {
   "cell_type": "markdown",
   "id": "c978c58e-ddde-435c-9512-b004e5dbac93",
   "metadata": {},
   "source": [
    "## Method 4"
   ]
  },
  {
   "cell_type": "code",
   "execution_count": null,
   "id": "e4b757f5-626b-47fe-82bd-0be957268ddf",
   "metadata": {},
   "outputs": [],
   "source": [
    "model_ia3 = RGqeFptmYSt36osm5rdsZwJP8FaNrdG9b6.from_pretrained(MODEL_NAME, num_labels=2)"
   ]
  },
  {
   "cell_type": "code",
   "execution_count": null,
   "id": "0ba31b54-15c2-4855-9907-488058cb7d2c",
   "metadata": {},
   "outputs": [],
   "source": [
    "# Configure IA3\n",
    "ia3_config = IA3Config(\n",
    "    task_type=TaskType.SEQ_CLS,\n",
    "    target_modules=[\"query\", \"key\", \"value\", \"output.dense\"],\n",
    "    feedforward_modules=[\"intermediate.dense\", \"output.dense\"]\n",
    ")"
   ]
  },
  {
   "cell_type": "code",
   "execution_count": null,
   "id": "fb547ce1-59f5-4caa-87d3-26eb0f5a12b3",
   "metadata": {},
   "outputs": [],
   "source": [
    "# Get PEFT model\n",
    "model_ia3 = get_peft_model(model_ia3, ia3_config)\n",
    "model_ia3.print_trainable_parameters()"
   ]
  },
  {
   "cell_type": "code",
   "execution_count": null,
   "id": "1b2bdf12-2f0c-4ec2-b4d9-2833672f49e6",
   "metadata": {},
   "outputs": [],
   "source": [
    "trainable_params_ia3 = sum(p.numel() for p in model_ia3.parameters() if p.requires_grad)\n",
    "print(f\"Number of trainable parameters: {trainable_params_ia3:,}\")"
   ]
  },
  {
   "cell_type": "code",
   "execution_count": null,
   "id": "772406a0-cff7-4765-9edd-9226f4de165f",
   "metadata": {},
   "outputs": [],
   "source": [
    "# Record initial GPU memory\n",
    "initial_memory_ia3 = get_gpu_memory()"
   ]
  },
  {
   "cell_type": "code",
   "execution_count": null,
   "id": "5da60ed0-6d4a-49f7-9001-417b20022e07",
   "metadata": {},
   "outputs": [],
   "source": [
    "trainer_ia3 = Trainer(\n",
    "    model=model_ia3,\n",
    "    args=training_args,\n",
    "    train_dataset=train_tokenized,\n",
    "    eval_dataset=test_tokenized,\n",
    "    compute_metrics=compute_metrics,\n",
    ")"
   ]
  },
  {
   "cell_type": "code",
   "execution_count": null,
   "id": "098aa44a-7f9c-4cba-b46f-e297d83e32e1",
   "metadata": {},
   "outputs": [],
   "source": [
    "# Train and measure time\n",
    "start_time = time.time()\n",
    "trainer_ia3.train()\n",
    "training_time_ia3 = time.time() - start_time"
   ]
  },
  {
   "cell_type": "code",
   "execution_count": null,
   "id": "1e54c424-2283-4a9b-bcbd-7975a52e3834",
   "metadata": {},
   "outputs": [],
   "source": [
    "eval_results_ia3 = trainer_ia3.evaluate()\n",
    "print(f\"Evaluation results: {eval_results_ia3}\")"
   ]
  },
  {
   "cell_type": "code",
   "execution_count": null,
   "id": "8c1e5a98-10e4-4d1e-b304-5fe313d39666",
   "metadata": {},
   "outputs": [],
   "source": [
    "# Record final GPU memory\n",
    "final_memory_ia3 = get_gpu_memory()\n",
    "gpu_memory_ia3 = max(final_memory_ia3, initial_memory_ia3)"
   ]
  },
  {
   "cell_type": "code",
   "execution_count": null,
   "id": "39142ee8-c27d-4a70-9863-a4925c1246d9",
   "metadata": {},
   "outputs": [],
   "source": [
    "# Save results\n",
    "results[\"Method\"].append(\"IA3 Adapter Tuning\")\n",
    "results[\"Accuracy\"].append(eval_results_ia3[\"eval_accuracy\"])\n",
    "results[\"Trainable Parameters\"].append(trainable_params_ia3)\n",
    "results[\"Training Time (s)\"].append(training_time_ia3)\n",
    "results[\"GPU Memory (MB)\"].append(gpu_memory_ia3)"
   ]
  },
  {
   "cell_type": "code",
   "execution_count": null,
   "id": "1d96e8bc-903a-43cf-9f9d-b30c73642e52",
   "metadata": {},
   "outputs": [],
   "source": [
    "del model_ia3\n",
    "del trainer_ia3\n",
    "torch.cuda.empty_cache()\n",
    "gc.collect()"
   ]
  },
  {
   "cell_type": "markdown",
   "id": "5f6afaf6-c94d-4871-992a-f9aad84b9ebb",
   "metadata": {},
   "source": [
    "# PART 3"
   ]
  },
  {
   "cell_type": "code",
   "execution_count": null,
   "id": "2496cd78-9aef-4c4d-b8ac-60591aa0fa26",
   "metadata": {},
   "outputs": [],
   "source": [
    "print(\"\\n===== Part 3: Evaluation Metrics Summary =====\")\n",
    "results_df = pd.DataFrame(results)\n",
    "print(results_df)"
   ]
  },
  {
   "cell_type": "code",
   "execution_count": null,
   "id": "48ae3034-2add-4e79-a983-0c859385551f",
   "metadata": {},
   "outputs": [],
   "source": [
    "# Display comparison of results\n",
    "print(\"\\nAccuracy Comparison:\")\n",
    "for method, accuracy in zip(results[\"Method\"], results[\"Accuracy\"]):\n",
    "    print(f\"{method}: {accuracy:.4f}\")"
   ]
  },
  {
   "cell_type": "code",
   "execution_count": null,
   "id": "38625628-a6dd-43a1-8df9-dfed09b0ce8a",
   "metadata": {},
   "outputs": [],
   "source": [
    "print(\"\\nTrainable Parameters Comparison:\")\n",
    "for method, params in zip(results[\"Method\"], results[\"Trainable Parameters\"]):\n",
    "    print(f\"{method}: {params:,}\")"
   ]
  },
  {
   "cell_type": "code",
   "execution_count": null,
   "id": "d20c3a8a-3c9f-40ed-8fb7-a4c1b410115a",
   "metadata": {},
   "outputs": [],
   "source": [
    "print(\"\\nTraining Time Comparison:\")\n",
    "for method, time_taken in zip(results[\"Method\"], results[\"Training Time (s)\"]):\n",
    "    print(f\"{method}: {time_taken:.2f} seconds\")"
   ]
  },
  {
   "cell_type": "code",
   "execution_count": null,
   "id": "ce4b41e5-190d-4a12-a68e-ccf3b984d00c",
   "metadata": {},
   "outputs": [],
   "source": [
    "print(\"\\nGPU Memory Usage Comparison:\")\n",
    "for method, memory in zip(results[\"Method\"], results[\"GPU Memory (MB)\"]):\n",
    "    print(f\"{method}: {memory} MB\")"
   ]
  },
  {
   "cell_type": "code",
   "execution_count": null,
   "id": "0d486a3c-e894-41aa-8fd6-ce8fe26c2aae",
   "metadata": {},
   "outputs": [],
   "source": [
    "# Save results to CSV\n",
    "results_df.to_csv(f\"{OUTPUT_DIR}/fine_tuning_comparison_results.csv\", index=False)"
   ]
  },
  {
   "cell_type": "markdown",
   "id": "519c61be-2e8e-4e2c-9073-89dcbbd266e9",
   "metadata": {},
   "source": [
    "# PART 4"
   ]
  },
  {
   "cell_type": "code",
   "execution_count": null,
   "id": "7d792f21-4c43-4be9-ba83-a70edd46be8a",
   "metadata": {},
   "outputs": [],
   "source": [
    "# Create visualizations\n",
    "def create_bar_chart(data, column, title, ylabel, filename):\n",
    "    plt.figure(figsize=(10, 6))\n",
    "    plt.bar(data[\"Method\"], data[column], color=['blue', 'green', 'red', 'purple'])\n",
    "    plt.title(title)\n",
    "    plt.ylabel(ylabel)\n",
    "    plt.xticks(rotation=45, ha='right')\n",
    "    plt.tight_layout()\n",
    "    plt.savefig(f\"{OUTPUT_DIR}/{filename}.png\")\n",
    "    plt.close()"
   ]
  },
  {
   "cell_type": "code",
   "execution_count": null,
   "id": "5d21d2b5-9446-4c62-88a4-f7d7237eb845",
   "metadata": {},
   "outputs": [],
   "source": [
    "create_bar_chart(results_df, \"Accuracy\", \"Accuracy Comparison\", \"Accuracy\", \"accuracy_comparison\")"
   ]
  },
  {
   "cell_type": "code",
   "execution_count": null,
   "id": "d6a319b7-8fbe-44c0-8d0c-35e802a3ee0b",
   "metadata": {},
   "outputs": [],
   "source": [
    "create_bar_chart(results_df, \"Trainable Parameters\", \"Trainable Parameters Comparison\", \"Number of Parameters\", \"parameters_comparison\")"
   ]
  },
  {
   "cell_type": "code",
   "execution_count": null,
   "id": "ae2709c2-176b-4f8a-b8be-71bac67dafde",
   "metadata": {},
   "outputs": [],
   "source": [
    "create_bar_chart(results_df, \"Training Time (s)\", \"Training Time Comparison\", \"Time (seconds)\", \"time_comparison\")"
   ]
  },
  {
   "cell_type": "code",
   "execution_count": null,
   "id": "d7ffdea3-7334-4065-9628-b635fd2829ad",
   "metadata": {},
   "outputs": [],
   "source": [
    "create_bar_chart(results_df, \"GPU Memory (MB)\", \"GPU Memory Usage Comparison\", \"Memory (MB)\", \"memory_comparison\")"
   ]
  }
 ],
 "metadata": {
  "kernelspec": {
   "display_name": "Python 3 (ipykernel)",
   "language": "python",
   "name": "python3"
  },
  "language_info": {
   "codemirror_mode": {
    "name": "ipython",
    "version": 3
   },
   "file_extension": ".py",
   "mimetype": "text/x-python",
   "name": "python",
   "nbconvert_exporter": "python",
   "pygments_lexer": "ipython3",
   "version": "3.8.10"
  }
 },
 "nbformat": 4,
 "nbformat_minor": 5
}
